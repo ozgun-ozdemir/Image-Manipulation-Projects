{
 "cells": [
  {
   "cell_type": "code",
   "execution_count": null,
   "metadata": {
    "vscode": {
     "languageId": "plaintext"
    }
   },
   "outputs": [],
   "source": [
    "from PIL import Image\n",
    "import matplotlib.pyplot as plt\n",
    "import numpy as np\n",
    "from scipy.signal import convolve2d\n",
    "\n",
    "image = Image.new(\"RGB\", (100, 100), \"white\")\n",
    "\n",
    "for x in range(50):\n",
    "    for y in range(50):\n",
    "        image.putpixel((x, y), (0, 0, 0))\n",
    "\n",
    "image.show()"
   ]
  },
  {
   "cell_type": "code",
   "execution_count": null,
   "metadata": {
    "vscode": {
     "languageId": "plaintext"
    }
   },
   "outputs": [],
   "source": [
    "histogram = image.histogram()\n",
    "print(\"Histogram of the image:\")\n",
    "for i, count in enumerate(histogram):\n",
    "    print(f\"Pixel value {i}: {count}\")\n",
    "\n",
    "plt.plot(histogram)\n",
    "plt.title('Histogram of the Image')\n",
    "plt.xlabel('Pixel Value')\n",
    "plt.ylabel('Frequency')\n",
    "plt.show()"
   ]
  },
  {
   "cell_type": "code",
   "execution_count": null,
   "metadata": {
    "vscode": {
     "languageId": "plaintext"
    }
   },
   "outputs": [],
   "source": [
    "image_gray = image.convert(\"L\")\n",
    "\n",
    "image_array = np.array(image_gray)\n",
    "\n",
    "kernel = np.ones((3, 3), dtype=np.float32) / 9.0\n",
    "\n",
    "filtered_image_array = convolve2d(image_array, kernel, mode=\"same\", boundary=\"symm\")\n",
    "\n",
    "filtered_image = Image.fromarray(filtered_image_array.astype(np.uint8))\n",
    "\n",
    "filtered_image.show()"
   ]
  },
  {
   "cell_type": "code",
   "execution_count": null,
   "metadata": {
    "vscode": {
     "languageId": "plaintext"
    }
   },
   "outputs": [],
   "source": [
    "filtered_image_gray = filtered_image.convert(\"L\")\n",
    "\n",
    "filtered_histogram = filtered_image_gray.histogram()\n",
    "\n",
    "print(\"Histogram of the filtered image:\")\n",
    "for i, count in enumerate(filtered_histogram):\n",
    "    print(f\"Pixel value {i}: {count}\")\n",
    "\n",
    "plt.plot(filtered_histogram)\n",
    "plt.title('Histogram of the Filtered Image')\n",
    "plt.xlabel('Pixel Value')\n",
    "plt.ylabel('Frequency')\n",
    "plt.show()"
   ]
  }
 ],
 "metadata": {
  "language_info": {
   "name": "python"
  }
 },
 "nbformat": 4,
 "nbformat_minor": 2
}
