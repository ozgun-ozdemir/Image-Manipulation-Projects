{
 "cells": [
  {
   "cell_type": "code",
   "execution_count": null,
   "metadata": {
    "vscode": {
     "languageId": "plaintext"
    }
   },
   "outputs": [],
   "source": [
    "import numpy as np\n",
    "from PIL import Image\n",
    "from scipy.ndimage import convolve\n",
    "import matplotlib.pyplot as plt\n",
    "\n",
    "image = Image.new(\"RGB\", (100, 100), \"white\")\n",
    "\n",
    "for x in range(50):\n",
    "    for y in range(50):\n",
    "        image.putpixel((x, y), (0, 0, 0))\n",
    "\n",
    "image_gray = image.convert(\"L\")\n",
    "\n",
    "image_array = np.array(image_gray)\n",
    "\n",
    "sobel_x_kernel = np.array([[-1, 0, 1],\n",
    "                            [-2, 0, 2],\n",
    "                            [-1, 0, 1]])\n",
    "\n",
    "sobel_y_kernel = np.array([[-1, -2, -1],\n",
    "                            [0, 0, 0],\n",
    "                            [1, 2, 1]])\n",
    "\n",
    "laplace_kernel = np.array([[0, 1, 0],\n",
    "                            [1, -4, 1],\n",
    "                            [0, 1, 0]])\n",
    "\n",
    "gaussian_kernel = np.array([[1, 2, 1],\n",
    "                             [2, 4, 2],\n",
    "                             [1, 2, 1]]) / 16.0\n",
    "\n",
    "sobel_x_filtered = convolve(image_array, sobel_x_kernel)\n",
    "sobel_y_filtered = convolve(image_array, sobel_y_kernel)\n",
    "laplace_filtered = convolve(image_array, laplace_kernel)\n",
    "gaussian_filtered = convolve(image_array, gaussian_kernel)\n",
    "\n",
    "sobel_x_image = Image.fromarray(sobel_x_filtered.astype(np.uint8))\n",
    "sobel_y_image = Image.fromarray(sobel_y_filtered.astype(np.uint8))\n",
    "laplace_image = Image.fromarray(laplace_filtered.astype(np.uint8))\n",
    "gaussian_image = Image.fromarray(gaussian_filtered.astype(np.uint8))\n",
    "\n",
    "plt.figure(figsize=(12, 6))\n",
    "\n",
    "plt.subplot(2, 3, 1)\n",
    "plt.imshow(image_gray, cmap='gray')\n",
    "plt.title('Original Image')\n",
    "\n",
    "plt.subplot(2, 3, 2)\n",
    "plt.imshow(sobel_x_image, cmap='gray')\n",
    "plt.title('Sobel X Filtered Image')\n",
    "\n",
    "plt.subplot(2, 3, 3)\n",
    "plt.imshow(sobel_y_image, cmap='gray')\n",
    "plt.title('Sobel Y Filtered Image')\n",
    "\n",
    "plt.subplot(2, 3, 4)\n",
    "plt.imshow(laplace_image, cmap='gray')\n",
    "plt.title('Laplace Filtered Image')\n",
    "\n",
    "plt.subplot(2, 3, 5)\n",
    "plt.imshow(gaussian_image, cmap='gray')\n",
    "plt.title('Gaussian Filtered Image')\n",
    "\n",
    "plt.tight_layout()\n",
    "plt.show()"
   ]
  }
 ],
 "metadata": {
  "language_info": {
   "name": "python"
  }
 },
 "nbformat": 4,
 "nbformat_minor": 2
}
